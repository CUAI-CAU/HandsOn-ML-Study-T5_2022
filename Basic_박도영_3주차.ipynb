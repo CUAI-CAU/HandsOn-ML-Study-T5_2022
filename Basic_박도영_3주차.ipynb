{
 "cells": [
  {
   "cell_type": "markdown",
   "id": "c7ecbe56",
   "metadata": {},
   "source": [
    "# 3. 분류\n",
    "\n",
    "## 3.1. MNIST\n",
    "MNIST : 70,000개의 작은 숫자 이미지 데이터셋. 학습용으로 많이 쓰임."
   ]
  },
  {
   "cell_type": "code",
   "execution_count": 10,
   "id": "7af6f80d",
   "metadata": {},
   "outputs": [],
   "source": [
    "# 파이썬 ≥3.5 필수\n",
    "import sys\n",
    "assert sys.version_info >= (3, 5)\n",
    "\n",
    "# 사이킷런 ≥0.20 필수\n",
    "import sklearn\n",
    "assert sklearn.__version__ >= \"0.20\"\n",
    "\n",
    "# 공통 모듈 임포트\n",
    "import numpy as np\n",
    "import os\n",
    "\n",
    "# 노트북 실행 결과를 동일하게 유지하기 위해\n",
    "np.random.seed(42)\n",
    "\n",
    "# 깔끔한 그래프 출력을 위해\n",
    "%matplotlib inline\n",
    "import matplotlib as mpl\n",
    "import matplotlib.pyplot as plt\n",
    "mpl.rc('axes', labelsize=14)\n",
    "mpl.rc('xtick', labelsize=12)\n",
    "mpl.rc('ytick', labelsize=12)\n",
    "\n",
    "# 그림을 저장할 위치\n",
    "PROJECT_ROOT_DIR = \".\"\n",
    "CHAPTER_ID = \"classification\"\n",
    "IMAGES_PATH = os.path.join(PROJECT_ROOT_DIR, \"images\", CHAPTER_ID)\n",
    "os.makedirs(IMAGES_PATH, exist_ok=True)\n",
    "\n",
    "def save_fig(fig_id, tight_layout=True, fig_extension=\"png\", resolution=300):\n",
    "    path = os.path.join(IMAGES_PATH, fig_id + \".\" + fig_extension)\n",
    "    print(\"그림 저장:\", fig_id)\n",
    "    if tight_layout:\n",
    "        plt.tight_layout()\n",
    "    plt.savefig(path, format=fig_extension, dpi=resolution)"
   ]
  },
  {
   "cell_type": "code",
   "execution_count": 11,
   "id": "13f77864",
   "metadata": {},
   "outputs": [
    {
     "data": {
      "text/plain": [
       "dict_keys(['data', 'target', 'frame', 'categories', 'feature_names', 'target_names', 'DESCR', 'details', 'url'])"
      ]
     },
     "execution_count": 11,
     "metadata": {},
     "output_type": "execute_result"
    }
   ],
   "source": [
    "from sklearn.datasets import fetch_openml\n",
    "mnist = fetch_openml('mnist_784', version=1, as_frame=False)\n",
    "mnist.keys()"
   ]
  },
  {
   "cell_type": "markdown",
   "id": "3d3ef0c9",
   "metadata": {},
   "source": [
    "사이킷런 데이터셋 딕셔너리 구조\n",
    "* 데이터셋을 설명하는 DESCR 키\n",
    "* 샘플이 행, 특성이 열로 구성된 배열을 가진 data 키\n",
    "* 레이블 배열을 담은 target 키\n"
   ]
  },
  {
   "cell_type": "code",
   "execution_count": 12,
   "id": "04b13b67",
   "metadata": {},
   "outputs": [
    {
     "data": {
      "text/plain": [
       "(70000, 784)"
      ]
     },
     "execution_count": 12,
     "metadata": {},
     "output_type": "execute_result"
    }
   ],
   "source": [
    "X, y = mnist[\"data\"], mnist[\"target\"]\n",
    "X.shape"
   ]
  },
  {
   "cell_type": "markdown",
   "id": "bcd4437d",
   "metadata": {},
   "source": [
    "이미지가 28 * 28개의 픽셀로 이루어져있고, 각 특성은 0 ~ 255까지의 픽셀 강도(색)을 나타낸다."
   ]
  },
  {
   "cell_type": "code",
   "execution_count": 13,
   "id": "3b1b2c5a",
   "metadata": {},
   "outputs": [
    {
     "data": {
      "text/plain": [
       "(70000,)"
      ]
     },
     "execution_count": 13,
     "metadata": {},
     "output_type": "execute_result"
    }
   ],
   "source": [
    "y.shape"
   ]
  },
  {
   "cell_type": "code",
   "execution_count": 14,
   "id": "040cb09e",
   "metadata": {},
   "outputs": [
    {
     "data": {
      "image/png": "[encoded data removed]",
      "text/plain": [
       "<Figure size 432x288 with 1 Axes>"
      ]
     },
     "metadata": {
      "needs_background": "light"
     },
     "output_type": "display_data"
    }
   ],
   "source": [
    "%matplotlib inline\n",
    "import matplotlib as mpl\n",
    "import matplotlib.pyplot as plt\n",
    "\n",
    "some_digit = X[0]\n",
    "some_digit_image = some_digit.reshape(28, 28)\n",
    "plt.imshow(some_digit_image, cmap=\"binary\")\n",
    "plt.axis(\"off\")\n",
    "plt.show()"
   ]
  },
  {
   "cell_type": "code",
   "execution_count": 15,
   "id": "270415b3",
   "metadata": {},
   "outputs": [
    {
     "data": {
      "text/plain": [
       "'5'"
      ]
     },
     "execution_count": 15,
     "metadata": {},
     "output_type": "execute_result"
    }
   ],
   "source": [
    "y[0]"
   ]
  },
  {
   "cell_type": "code",
   "execution_count": 16,
   "id": "4a28a386",
   "metadata": {},
   "outputs": [],
   "source": [
    "y=y.astype(np.uint8)"
   ]
  },
  {
   "cell_type": "markdown",
   "id": "d636c97d",
   "metadata": {},
   "source": [
    "train set, test set 나누기"
   ]
  },
  {
   "cell_type": "code",
   "execution_count": 17,
   "id": "e798c6d0",
   "metadata": {},
   "outputs": [],
   "source": [
    "X_train, X_test, y_train, y_test = X[:60000], X[60000:], y[:60000], y[60000:] # 훈련세트 이미 섞여있음."
   ]
  },
  {
   "cell_type": "markdown",
   "id": "9bde519e",
   "metadata": {},
   "source": [
    "## 3.2 이진 분류기 훈련\n",
    "단순화시켜 5를 구분하는 이진 분류기(binary classifier)만들기"
   ]
  },
  {
   "cell_type": "markdown",
   "id": "9c2fd37e",
   "metadata": {},
   "source": [
    "* 타깃 벡터 형성"
   ]
  },
  {
   "cell_type": "code",
   "execution_count": 18,
   "id": "48764f14",
   "metadata": {},
   "outputs": [],
   "source": [
    "y_train_5 = (y_train==5) # 5는 True, 다른 숫자는 모두 False\n",
    "y_test_5 = (y_test==5) "
   ]
  },
  {
   "cell_type": "markdown",
   "id": "0dae2cbd",
   "metadata": {},
   "source": [
    "* SGD(확률적 경사 하강법/Stochastic Gradient Descent) 모델 선택    \n",
    "\n",
    "    * 매운 큰 데이터를 효율적으로 처리하는 장점\n",
    "    * 한 번에 하나씩 훈련 샘플을 독립적으로 처리하기때문에 온란인 학습에 잘 들어맞음\n",
    "    * sklearn의 SGDClassifier로 모델링 가능"
   ]
  },
  {
   "cell_type": "code",
   "execution_count": 19,
   "id": "e3063219",
   "metadata": {},
   "outputs": [
    {
     "data": {
      "text/plain": [
       "SGDClassifier(random_state=42)"
      ]
     },
     "execution_count": 19,
     "metadata": {},
     "output_type": "execute_result"
    }
   ],
   "source": [
    "from sklearn.linear_model import SGDClassifier\n",
    "\n",
    "sgd_clf = SGDClassifier(random_state=42)\n",
    "sgd_clf.fit(X_train, y_train_5)"
   ]
  },
  {
   "cell_type": "code",
   "execution_count": 20,
   "id": "e6e286a6",
   "metadata": {},
   "outputs": [
    {
     "data": {
      "text/plain": [
       "array([ True])"
      ]
     },
     "execution_count": 20,
     "metadata": {},
     "output_type": "execute_result"
    }
   ],
   "source": [
    "sgd_clf.predict([some_digit])"
   ]
  },
  {
   "cell_type": "markdown",
   "id": "0db965e4",
   "metadata": {},
   "source": [
    "## 3.3 성능 측정\n",
    "### 3.3.1 교차 검증을 사용한 정확도 측정\n",
    "\n",
    "* sklearn의 cross_val_score()"
   ]
  },
  {
   "cell_type": "code",
   "execution_count": 21,
   "id": "39e246c7",
   "metadata": {},
   "outputs": [
    {
     "data": {
      "text/plain": [
       "array([0.95035, 0.96035, 0.9604 ])"
      ]
     },
     "execution_count": 21,
     "metadata": {},
     "output_type": "execute_result"
    }
   ],
   "source": [
    "from sklearn.model_selection import cross_val_score\n",
    "cross_val_score(sgd_clf, X_train, y_train_5, cv=3, scoring=\"accuracy\")"
   ]
  },
  {
   "cell_type": "markdown",
   "id": "61d990d7",
   "metadata": {},
   "source": [
    "* 모델링 구현"
   ]
  },
  {
   "cell_type": "code",
   "execution_count": 22,
   "id": "c5c61e5f",
   "metadata": {},
   "outputs": [
    {
     "name": "stdout",
     "output_type": "stream",
     "text": [
      "0.9669\n",
      "0.91625\n",
      "0.96785\n"
     ]
    }
   ],
   "source": [
    "from sklearn.model_selection import StratifiedKFold\n",
    "from sklearn.base import clone\n",
    "\n",
    "\n",
    "skfolds = StratifiedKFold(n_splits=3, random_state=42, shuffle=True)\n",
    "\n",
    "for train_index, test_index in skfolds.split(X_train, y_train_5):\n",
    "    clone_clf = clone(sgd_clf)\n",
    "    X_train_folds = X_train[train_index]\n",
    "    y_train_folds = y_train_5[train_index]\n",
    "    X_test_fold = X_train[test_index]\n",
    "    y_test_fold = y_train_5[test_index]\n",
    "\n",
    "    clone_clf.fit(X_train_folds, y_train_folds)\n",
    "    y_pred = clone_clf.predict(X_test_fold)\n",
    "    n_correct = sum(y_pred == y_test_fold)\n",
    "    print(n_correct / len(y_pred))"
   ]
  },
  {
   "cell_type": "markdown",
   "id": "016abe70",
   "metadata": {},
   "source": [
    "* 모든 이미지를 '5 아님' 클래스로 분류하는 더미 분류기"
   ]
  },
  {
   "cell_type": "code",
   "execution_count": 23,
   "id": "687fbd2d",
   "metadata": {},
   "outputs": [],
   "source": [
    "from sklearn.base import BaseEstimator\n",
    "\n",
    "class Never5Classifier(BaseEstimator):\n",
    "    def fit(self, X, y=None):\n",
    "        return self\n",
    "    def predict(self, X):\n",
    "        return np.zeros((len(X),1), dtype=bool)"
   ]
  },
  {
   "cell_type": "code",
   "execution_count": 24,
   "id": "ae48d488",
   "metadata": {},
   "outputs": [
    {
     "data": {
      "text/plain": [
       "array([0.91125, 0.90855, 0.90915])"
      ]
     },
     "execution_count": 24,
     "metadata": {},
     "output_type": "execute_result"
    }
   ],
   "source": [
    "never_5_clf = Never5Classifier()\n",
    "cross_val_score(never_5_clf, X_train, y_train_5, cv=3, scoring=\"accuracy\")"
   ]
  },
  {
   "cell_type": "markdown",
   "id": "233954bb",
   "metadata": {},
   "source": [
    "모든 이미지를 5 아님 클래스로 분류하는 분류기를  만들었는데 정확도로 성능을 측정했을 때 90% 이상이 나옴.  \n",
    "-> 이미지의 10% 정도만 5였기 때문에 정확도가 높게 나왔다. \n",
    "\n",
    "-> 불균형한 데이터셋을 다룰 때 정확도를 분류기의 성능 측정 지표로 사용하는 것은 적합하지 않다."
   ]
  },
  {
   "cell_type": "markdown",
   "id": "0319b3f1",
   "metadata": {},
   "source": [
    "### 3.3.2 오차행렬\n",
    "\n",
    "* 오차행렬  \n",
    "오차행렬(confusion matrix)는 클래스 A의 샘플이 클래스 B로 분류된 횟수를 세는 것이다.  \n",
    "실제 타깃과 비교할 수 있도록 먼저 예측값을 만들어야 한다."
   ]
  },
  {
   "cell_type": "code",
   "execution_count": 25,
   "id": "047cfe11",
   "metadata": {},
   "outputs": [],
   "source": [
    "from sklearn.model_selection import cross_val_predict\n",
    "\n",
    "y_train_pred = cross_val_predict(sgd_clf,  X_train, y_train_5, cv=3)\n",
    "# cross_val_predict()는 kfold cross validation을 수행하지만 평가 점수를 반환(cross_val_score)하지 않고 각 테스트 폴드에서 얻은 예측을 반환"
   ]
  },
  {
   "cell_type": "code",
   "execution_count": 26,
   "id": "5e54a7bf",
   "metadata": {},
   "outputs": [
    {
     "data": {
      "text/plain": [
       "array([[53892,   687],\n",
       "       [ 1891,  3530]], dtype=int64)"
      ]
     },
     "execution_count": 26,
     "metadata": {},
     "output_type": "execute_result"
    }
   ],
   "source": [
    "from sklearn.metrics import confusion_matrix\n",
    "\n",
    "confusion_matrix(y_train_5, y_train_pred)"
   ]
  },
  {
   "cell_type": "markdown",
   "id": "ec38b4d2",
   "metadata": {},
   "source": [
    "1행 : negative class (실제 5 아님 이미지)  \n",
    "2행 : positive class (실제 5 이미지)  \n",
    "1열 : 5 아니라고 예측  \n",
    "2열 : 5 라고 예측  \n",
    "\n",
    "1행 1열 : true negative (5 아님으로 정확히 분류)  \n",
    "1행 2열 : false positive (5라고 잘못 분류)  \n",
    "2행 1열 : false negative (5 아님으로 잘못 분류)  \n",
    "2행 2열 : true positive (5라고 정확히 분류)  \n",
    "\n",
    "완벽한 분류기의 경우 오차 행렬의 주대각선만 0이 아닌 값이 될 것.(대각행렬)"
   ]
  },
  {
   "cell_type": "code",
   "execution_count": 27,
   "id": "f7c38264",
   "metadata": {},
   "outputs": [
    {
     "data": {
      "text/plain": [
       "array([[54579,     0],\n",
       "       [    0,  5421]], dtype=int64)"
      ]
     },
     "execution_count": 27,
     "metadata": {},
     "output_type": "execute_result"
    }
   ],
   "source": [
    "# 완벽한 분류기의 경우\n",
    "\n",
    "y_train_perfect_predictions = y_train_5\n",
    "confusion_matrix(y_train_5, y_train_perfect_predictions)"
   ]
  },
  {
   "cell_type": "markdown",
   "id": "292a1ba2",
   "metadata": {},
   "source": [
    "* 정밀도(precision)  \n",
    "양성 예측의 정확도  \n",
    "정밀도 = TP/(TP + FP)  \n",
    "\n",
    "* 재현율(recall)  \n",
    "분류기가 정확하게 감지한 양성 샘플의 비율   \n",
    "민감도 또는 TPR(진짜 양성 비율)이라고도 한다.  \n",
    "재현율 = TP/(TP + FN)"
   ]
  },
  {
   "cell_type": "markdown",
   "id": "aff45be7",
   "metadata": {},
   "source": [
    "### 3.3.3 정밀도와 재현율"
   ]
  },
  {
   "cell_type": "code",
   "execution_count": 28,
   "id": "efdb126d",
   "metadata": {},
   "outputs": [
    {
     "data": {
      "text/plain": [
       "0.8370879772350012"
      ]
     },
     "execution_count": 28,
     "metadata": {},
     "output_type": "execute_result"
    }
   ],
   "source": [
    "from sklearn.metrics import precision_score, recall_score\n",
    "\n",
    "precision_score(y_train_5, y_train_pred) # 5로 판별된 이미지중 83.7%만 정확"
   ]
  },
  {
   "cell_type": "code",
   "execution_count": 29,
   "id": "f0cd0974",
   "metadata": {},
   "outputs": [
    {
     "data": {
      "text/plain": [
       "0.6511713705958311"
      ]
     },
     "execution_count": 29,
     "metadata": {},
     "output_type": "execute_result"
    }
   ],
   "source": [
    "recall_score(y_train_5, y_train_pred) # 전체 5중 65%만 감지"
   ]
  },
  {
   "cell_type": "markdown",
   "id": "8f3018ac",
   "metadata": {},
   "source": [
    "* F1 score  \n",
    "정밀도와 재현율의 조화 평균\n",
    "F1 = 2/(1/정밀도 + 1/재현율) = 2*(정밀도*재현율)/(정밀도+재현율) = TP/(TP + (FN + FP)/2)"
   ]
  },
  {
   "cell_type": "code",
   "execution_count": 30,
   "id": "c0a4e3d7",
   "metadata": {},
   "outputs": [
    {
     "data": {
      "text/plain": [
       "0.7325171197343846"
      ]
     },
     "execution_count": 30,
     "metadata": {},
     "output_type": "execute_result"
    }
   ],
   "source": [
    "from sklearn.metrics import f1_score\n",
    "\n",
    "f1_score(y_train_5, y_train_pred)"
   ]
  },
  {
   "cell_type": "markdown",
   "id": "38298fb7",
   "metadata": {},
   "source": [
    "* 정밀도/재현율 트레이드오프  \n",
    "정밀도를 올리면 재현율이 줄고, 재현율을 올리면 정밀도가 줄어든다."
   ]
  },
  {
   "cell_type": "markdown",
   "id": "5e086ac1",
   "metadata": {},
   "source": [
    "### 3.3.4 정밀도/재현율 트레이드오프\n",
    "\n",
    "SGDClassifier가 분류를 어떻게 결정하는지 살펴보며 트레이드오프를 이해  \n",
    "\n",
    "SGDClassifier는 결정함수를 사용하여 각 샘플의 점수를 계산한다. 이 점수가 결정 임곗값(decision threshold)보다 크면 양성 클래스에, 작으면 음성 클래스에 샘플을 할당한다.  \n",
    "결정 임곗값을 높이면 정밀도는 높아지고 재현율은 줄어든다. 반대로 임곗값은 낮추면 정밀도는 낮아지고 재현율은 높아진다.\n"
   ]
  },
  {
   "cell_type": "code",
   "execution_count": 31,
   "id": "a39124bf",
   "metadata": {},
   "outputs": [
    {
     "data": {
      "text/plain": [
       "array([2164.22030239])"
      ]
     },
     "execution_count": 31,
     "metadata": {},
     "output_type": "execute_result"
    }
   ],
   "source": [
    "y_scores =sgd_clf.decision_function([some_digit]) # decision_function : 각 샘플의 점수를 알 수 있음.\n",
    "y_scores"
   ]
  },
  {
   "cell_type": "code",
   "execution_count": 32,
   "id": "2b753775",
   "metadata": {},
   "outputs": [],
   "source": [
    "threshold = 0\n",
    "y_some_digit_pred = (y_scores > threshold)"
   ]
  },
  {
   "cell_type": "code",
   "execution_count": 33,
   "id": "a119608f",
   "metadata": {},
   "outputs": [
    {
     "data": {
      "text/plain": [
       "array([ True])"
      ]
     },
     "execution_count": 33,
     "metadata": {},
     "output_type": "execute_result"
    }
   ],
   "source": [
    "y_some_digit_pred"
   ]
  },
  {
   "cell_type": "code",
   "execution_count": 34,
   "id": "08386778",
   "metadata": {},
   "outputs": [
    {
     "data": {
      "text/plain": [
       "array([False])"
      ]
     },
     "execution_count": 34,
     "metadata": {},
     "output_type": "execute_result"
    }
   ],
   "source": [
    "threshold = 8000\n",
    "y_some_digit_pred = (y_scores > threshold)\n",
    "y_some_digit_pred"
   ]
  },
  {
   "cell_type": "markdown",
   "id": "048dc5e7",
   "metadata": {},
   "source": [
    "적절한 threshold 정하는 방법"
   ]
  },
  {
   "cell_type": "code",
   "execution_count": 35,
   "id": "4da0cb3a",
   "metadata": {},
   "outputs": [],
   "source": [
    "y_scores = cross_val_predict(sgd_clf, X_train, y_train_5, cv=3,\n",
    "                             method=\"decision_function\")"
   ]
  },
  {
   "cell_type": "code",
   "execution_count": 36,
   "id": "551e2b0e",
   "metadata": {},
   "outputs": [],
   "source": [
    "from sklearn.metrics import precision_recall_curve\n",
    "\n",
    "precisions, recalls, thresholds = precision_recall_curve(y_train_5, y_scores)"
   ]
  },
  {
   "cell_type": "code",
   "execution_count": 37,
   "id": "b3c50e8e",
   "metadata": {},
   "outputs": [
    {
     "data": {
      "image/png": "[encoded data removed]",
      "text/plain": [
       "<Figure size 432x288 with 1 Axes>"
      ]
     },
     "metadata": {
      "needs_background": "light"
     },
     "output_type": "display_data"
    }
   ],
   "source": [
    "def plot_precision_recall_vs_threshold(precisions, recalls, thresholds):\n",
    "    plt.plot(thresholds, precisions[:-1], \"b--\", label=\"정밀도\")\n",
    "    plt.plot(thresholds, recalls[:-1], \"g-\", label = \"재현율\")\n",
    "\n",
    "plot_precision_recall_vs_threshold(precisions, recalls, thresholds)\n",
    "plt.show()"
   ]
  },
  {
   "cell_type": "code",
   "execution_count": 38,
   "id": "534e860e",
   "metadata": {},
   "outputs": [],
   "source": [
    "threshold_90_precision = thresholds[np.argmax(precisions >= 0.90)] # np.argmax : 최댓값의 첫 인덱스를 반환. 여기서는 () 조건이 처음으로 True가 되는 인덱스 반환"
   ]
  },
  {
   "cell_type": "code",
   "execution_count": 39,
   "id": "ff342902",
   "metadata": {},
   "outputs": [],
   "source": [
    "y_train_pred_90 = (y_scores >= threshold_90_precision)"
   ]
  },
  {
   "cell_type": "code",
   "execution_count": 40,
   "id": "aee4d2a1",
   "metadata": {},
   "outputs": [
    {
     "data": {
      "text/plain": [
       "0.9000345901072293"
      ]
     },
     "execution_count": 40,
     "metadata": {},
     "output_type": "execute_result"
    }
   ],
   "source": [
    "precision_score(y_train_5, y_train_pred_90)"
   ]
  },
  {
   "cell_type": "code",
   "execution_count": 41,
   "id": "e8ce4ff4",
   "metadata": {},
   "outputs": [
    {
     "data": {
      "text/plain": [
       "0.4799852425751706"
      ]
     },
     "execution_count": 41,
     "metadata": {},
     "output_type": "execute_result"
    }
   ],
   "source": [
    "recall_score(y_train_5, y_train_pred_90)"
   ]
  },
  {
   "cell_type": "markdown",
   "id": "1e11067f",
   "metadata": {},
   "source": [
    "일정 정밀도를 달성하는 분류기를 만들 때, 재현율이 너무 낮진 않은지 확인해야 한다."
   ]
  },
  {
   "cell_type": "markdown",
   "id": "bf6aecfd",
   "metadata": {},
   "source": [
    "### 3.3.5 ROC 곡선\n",
    "\n",
    "수신기 조작 특성(ROC)곡선도 이진 분류에서 널리 사용하는 도구이다.  \n",
    "ROC곡선은 거짓 양성 비율(FPR)에 대한 진짜 양성 비율(TPR, 재현율)의 곡선이다.  \n",
    "FPR은 양성으로 잘못 분류된 음성 샘플의 비율.  \n",
    "FPR = 1-TNR(특이도(specificity), 음성으로 정확히 분류된 음성 샘플의 비율)  \n",
    "\n",
    "ROC 곡선은 민감도(재현율)에 대한 1-특이도 그래프."
   ]
  },
  {
   "cell_type": "code",
   "execution_count": 42,
   "id": "502c5da9",
   "metadata": {},
   "outputs": [],
   "source": [
    "from sklearn.metrics import roc_curve\n",
    "\n",
    "fpr, tpr, thresholds = roc_curve(y_train_5, y_scores)"
   ]
  },
  {
   "cell_type": "code",
   "execution_count": 43,
   "id": "8cc7c303",
   "metadata": {},
   "outputs": [
    {
     "data": {
      "image/png": "[encoded data removed]",
      "text/plain": [
       "<Figure size 432x288 with 1 Axes>"
      ]
     },
     "metadata": {
      "needs_background": "light"
     },
     "output_type": "display_data"
    }
   ],
   "source": [
    "def plot_roc_curve(fpr, tpr, label=None):\n",
    "    plt.plot(fpr, tpr, linewidth=2, label=label)\n",
    "    plt.plot([0,1], [0,1], 'k--')\n",
    "\n",
    "plot_roc_curve(fpr, tpr)\n",
    "plt.show()"
   ]
  },
  {
   "cell_type": "markdown",
   "id": "2a264dd3",
   "metadata": {},
   "source": [
    "재현율(TPR)이 높을수록 분류기가 만드는 거짓 양성(FPR)이 늘어난다.  \n",
    "좋은 분류기는 점선에서 최대한 멀리 떨어져있어야 한다.  \n",
    "완벽한 분류기는 곡선 아래의 면적(AUG)가 1이고, 완전한 랜덤 분류기는 0.5 이다.  \n",
    "AUG가 1에 가까울수록 좋은 분류기이다."
   ]
  },
  {
   "cell_type": "code",
   "execution_count": 44,
   "id": "1c1230f8",
   "metadata": {},
   "outputs": [
    {
     "data": {
      "text/plain": [
       "0.9604938554008616"
      ]
     },
     "execution_count": 44,
     "metadata": {},
     "output_type": "execute_result"
    }
   ],
   "source": [
    "from sklearn.metrics import roc_auc_score\n",
    "\n",
    "roc_auc_score(y_train_5, y_scores)"
   ]
  },
  {
   "cell_type": "markdown",
   "id": "4e612aa8",
   "metadata": {},
   "source": [
    "* ROC 곡선과 PR곡선 선택 tip  \n",
    "- PR곡선 : 양성 클래스보다 음성 클래스가 압도적으로 많을때, FN 보다 FP가 더 중요할 때 사용  \n",
    "- ROC 곡선 : 이 외의 경우에 사용  \n",
    "- 이유 : 음성 클래스가 많아지게 되면 FP가 커져 정상적으로 양성 샘플을 분류할 수 없게 되어 높은 정밀도를 얻을 수 없게 됨.  \n",
    "반면 ROC 곡선의 경우 음성 샘플의 수에 큰 영향을 받지 않아 양호한 결과를 보일 수 있다.\n",
    "\n",
    "[참고] https://nanunzoey.tistory.com/entry/ROC-%EA%B3%A1%EC%84%A0-vs-P-R-%EA%B3%A1%EC%84%A0"
   ]
  },
  {
   "cell_type": "markdown",
   "id": "48057602",
   "metadata": {},
   "source": [
    "* Random Forest Classifier 모델 선택"
   ]
  },
  {
   "cell_type": "code",
   "execution_count": 45,
   "id": "0ff58016",
   "metadata": {},
   "outputs": [],
   "source": [
    "from sklearn.ensemble import RandomForestClassifier\n",
    "\n",
    "forest_clf = RandomForestClassifier(random_state=42)\n",
    "y_probas_forest = cross_val_predict(forest_clf, X_train, y_train_5, cv=3, method=\"predict_proba\")"
   ]
  },
  {
   "cell_type": "code",
   "execution_count": 46,
   "id": "07d1ab82",
   "metadata": {},
   "outputs": [],
   "source": [
    "y_scores_forest = y_probas_forest[:,1] # 양성 클래스에 대한 확률을 점수로 사용(decision function 대신 predict_proba 써서)\n",
    "fpr_forest, tpr_forest, thresholds_forest = roc_curve(y_train_5, y_scores_forest)"
   ]
  },
  {
   "cell_type": "code",
   "execution_count": 47,
   "id": "d8d35133",
   "metadata": {},
   "outputs": [
    {
     "data": {
      "image/png": "[encoded data removed]",
      "text/plain": [
       "<Figure size 432x288 with 1 Axes>"
      ]
     },
     "metadata": {
      "needs_background": "light"
     },
     "output_type": "display_data"
    }
   ],
   "source": [
    "plt.plot(fpr, tpr, \"b:\", label=\"SGD\")\n",
    "plot_roc_curve(fpr_forest, tpr_forest, \"random forest\")\n",
    "plt.legend(loc=\"lower right\")\n",
    "plt.show()"
   ]
  },
  {
   "cell_type": "markdown",
   "id": "a198c644",
   "metadata": {},
   "source": [
    "sgd 보다 랜덤 포레스트 모델의 ROC 곡선의 AUG 점수가 휠씬 높다."
   ]
  },
  {
   "cell_type": "code",
   "execution_count": 48,
   "id": "d661334b",
   "metadata": {},
   "outputs": [
    {
     "data": {
      "text/plain": [
       "0.9983436731328145"
      ]
     },
     "execution_count": 48,
     "metadata": {},
     "output_type": "execute_result"
    }
   ],
   "source": [
    "roc_auc_score(y_train_5, y_scores_forest)"
   ]
  },
  {
   "cell_type": "code",
   "execution_count": 49,
   "id": "62d2d9c8",
   "metadata": {},
   "outputs": [
    {
     "data": {
      "text/plain": [
       "0.9905083315756169"
      ]
     },
     "execution_count": 49,
     "metadata": {},
     "output_type": "execute_result"
    }
   ],
   "source": [
    "y_train_pred_forest = cross_val_predict(forest_clf, X_train, y_train_5, cv=3)\n",
    "precision_score(y_train_5, y_train_pred_forest)"
   ]
  },
  {
   "cell_type": "code",
   "execution_count": 50,
   "id": "ccb9de7e",
   "metadata": {},
   "outputs": [
    {
     "data": {
      "text/plain": [
       "0.8662608374838591"
      ]
     },
     "execution_count": 50,
     "metadata": {},
     "output_type": "execute_result"
    }
   ],
   "source": [
    "recall_score(y_train_5, y_train_pred_forest)"
   ]
  },
  {
   "cell_type": "markdown",
   "id": "0f206f80",
   "metadata": {},
   "source": [
    "## 3.4 다중 분류\n",
    "\n",
    "다중분류기(multiclass classifier)는 둘 이상의 클래스를 구별할 수 있다.  \n",
    "\n",
    "* 다중분류가 가능한 모델 : SGD 분류기, 랜덤 포레스트 분류기, 나이브 베이즈 분류기\n",
    "* 이진 분류만 가능한 모델 : 로지스틱 회귀, 서포트 벡터 머신 분류기 등\n",
    "    * 이진 분류기를 여러 개 사용해 다중 클ㄹ래스를 분류하는 기법\n",
    "        1. OvR(one versus the rest) 또는 OvA(one versus all)  \n",
    "        ex) 특정 숫자 하나를 구별하는 이진 분류기를 10개 생성하면 클래스가 10개인 숫자 이미지 분류 시스템을 만들 수 있다.  \n",
    "        각 분류기의 결정 점수 중에서 가장 높은 것을 클래스로 선택하면 된다.  \n",
    "        대부분의 이진 분류 알고리즘에서 선호\n",
    "        \n",
    "        2. OvO(one versus one)  \n",
    "        ex) 0과1, 1과 2 등 각 숫자 조합마다 이진 분류기를 훈련.  \n",
    "        클래스가 N개이면 NC2개의 클래스 필요(N개중 2개를 뽑는.)  이미지 분류시 NC2개의 분류기 모두 통과시켜 가장 많이 양성으로 분류된 클래스를 선택.  \n",
    "        장점은 구별할 두 클래스에 해당하는 샘플만 필요하다는 점으로 훈련 세트의 크기에 민감한 분류기에서 선호됨.\n",
    "\n",
    "        다중클래스 분류 작업에 이진 분류 알고리즘을 선택하면 사이킷런이 자동으로 OvR 또는 OvO를 실행한다."
   ]
  },
  {
   "cell_type": "markdown",
   "id": "6a143c86",
   "metadata": {},
   "source": [
    "* 서포트 벡터 머신 분류기"
   ]
  },
  {
   "cell_type": "code",
   "execution_count": 52,
   "id": "de251d0e",
   "metadata": {},
   "outputs": [
    {
     "data": {
      "text/plain": [
       "array([5], dtype=uint8)"
      ]
     },
     "execution_count": 52,
     "metadata": {},
     "output_type": "execute_result"
    }
   ],
   "source": [
    "from sklearn.svm import SVC\n",
    "\n",
    "svm_clf = SVC()\n",
    "svm_clf.fit(X_train, y_train)\n",
    "svm_clf.predict([some_digit])"
   ]
  },
  {
   "cell_type": "code",
   "execution_count": 53,
   "id": "366b1ea9",
   "metadata": {},
   "outputs": [
    {
     "data": {
      "text/plain": [
       "array([[ 1.72501977,  2.72809088,  7.2510018 ,  8.3076379 , -0.31087254,\n",
       "         9.3132482 ,  1.70975103,  2.76765202,  6.23049537,  4.84771048]])"
      ]
     },
     "execution_count": 53,
     "metadata": {},
     "output_type": "execute_result"
    }
   ],
   "source": [
    "some_digit_scores = svm_clf.decision_function([some_digit])\n",
    "some_digit_scores # 가장 높은 점수가 클래스 5에 해당하는 값임."
   ]
  },
  {
   "cell_type": "code",
   "execution_count": 54,
   "id": "4ae340ef",
   "metadata": {},
   "outputs": [
    {
     "data": {
      "text/plain": [
       "5"
      ]
     },
     "execution_count": 54,
     "metadata": {},
     "output_type": "execute_result"
    }
   ],
   "source": [
    "np.argmax(some_digit_scores)"
   ]
  },
  {
   "cell_type": "code",
   "execution_count": 55,
   "id": "2a91d096",
   "metadata": {},
   "outputs": [
    {
     "data": {
      "text/plain": [
       "array([0, 1, 2, 3, 4, 5, 6, 7, 8, 9], dtype=uint8)"
      ]
     },
     "execution_count": 55,
     "metadata": {},
     "output_type": "execute_result"
    }
   ],
   "source": [
    "svm_clf.classes_"
   ]
  },
  {
   "cell_type": "code",
   "execution_count": 56,
   "id": "7faedbe7",
   "metadata": {},
   "outputs": [
    {
     "data": {
      "text/plain": [
       "5"
      ]
     },
     "execution_count": 56,
     "metadata": {},
     "output_type": "execute_result"
    }
   ],
   "source": [
    "svm_clf.classes_[5]"
   ]
  },
  {
   "cell_type": "code",
   "execution_count": 58,
   "id": "e7615169",
   "metadata": {},
   "outputs": [
    {
     "data": {
      "text/plain": [
       "array([5], dtype=uint8)"
      ]
     },
     "execution_count": 58,
     "metadata": {},
     "output_type": "execute_result"
    }
   ],
   "source": [
    "# 사이킷런에서 OvO, OvR 강제로 지정하는 경우\n",
    "from sklearn.multiclass import OneVsRestClassifier\n",
    "\n",
    "ovr_clf = OneVsRestClassifier(SVC())\n",
    "ovr_clf.fit(X_train, y_train)\n",
    "ovr_clf.predict([some_digit])"
   ]
  },
  {
   "cell_type": "code",
   "execution_count": 59,
   "id": "cc3d6864",
   "metadata": {},
   "outputs": [
    {
     "data": {
      "text/plain": [
       "array([3], dtype=uint8)"
      ]
     },
     "execution_count": 59,
     "metadata": {},
     "output_type": "execute_result"
    }
   ],
   "source": [
    "# 자동으로 다중 클래스로 분류하는 경우(sgd classifier나 randomforest 등등)\n",
    "sgd_clf.fit(X_train, y_train)\n",
    "sgd_clf.predict([some_digit])"
   ]
  },
  {
   "cell_type": "code",
   "execution_count": 60,
   "id": "6bd889b0",
   "metadata": {},
   "outputs": [
    {
     "data": {
      "text/plain": [
       "array([[-31893.03095419, -34419.69069632,  -9530.63950739,\n",
       "          1823.73154031, -22320.14822878,  -1385.80478895,\n",
       "        -26188.91070951, -16147.51323997,  -4604.35491274,\n",
       "        -12050.767298  ]])"
      ]
     },
     "execution_count": 60,
     "metadata": {},
     "output_type": "execute_result"
    }
   ],
   "source": [
    "sgd_clf.decision_function([some_digit])"
   ]
  },
  {
   "cell_type": "code",
   "execution_count": 61,
   "id": "737d1546",
   "metadata": {},
   "outputs": [
    {
     "data": {
      "text/plain": [
       "array([0.87365, 0.85835, 0.8689 ])"
      ]
     },
     "execution_count": 61,
     "metadata": {},
     "output_type": "execute_result"
    }
   ],
   "source": [
    "# sgd분류기 평가_교차검증\n",
    "cross_val_score(sgd_clf, X_train, y_train, cv=3, scoring=\"accuracy\")"
   ]
  },
  {
   "cell_type": "code",
   "execution_count": 62,
   "id": "1a8af1c3",
   "metadata": {},
   "outputs": [
    {
     "data": {
      "text/plain": [
       "array([0.8983, 0.891 , 0.9018])"
      ]
     },
     "execution_count": 62,
     "metadata": {},
     "output_type": "execute_result"
    }
   ],
   "source": [
    "# standardscale로 입력 스케일 조정하여 점수 향상\n",
    "from sklearn.preprocessing import StandardScaler\n",
    "\n",
    "scaler= StandardScaler()\n",
    "X_train_scaled = scaler.fit_transform(X_train.astype(np.float64))\n",
    "cross_val_score(sgd_clf, X_train_scaled, y_train, cv=3, scoring=\"accuracy\")"
   ]
  },
  {
   "cell_type": "markdown",
   "id": "6cc08585",
   "metadata": {},
   "source": [
    "## 3.5 에러 분석\n",
    "가능성이 높은 모델을 찾았다고 가정하고 모델 성능 향상시킬 방법 중 하나는 에러의 종류를 분석하는 것이다."
   ]
  },
  {
   "cell_type": "code",
   "execution_count": 63,
   "id": "d5eebab1",
   "metadata": {},
   "outputs": [
    {
     "data": {
      "text/plain": [
       "array([[5577,    0,   22,    5,    8,   43,   36,    6,  225,    1],\n",
       "       [   0, 6400,   37,   24,    4,   44,    4,    7,  212,   10],\n",
       "       [  27,   27, 5220,   92,   73,   27,   67,   36,  378,   11],\n",
       "       [  22,   17,  117, 5227,    2,  203,   27,   40,  403,   73],\n",
       "       [  12,   14,   41,    9, 5182,   12,   34,   27,  347,  164],\n",
       "       [  27,   15,   30,  168,   53, 4444,   75,   14,  535,   60],\n",
       "       [  30,   15,   42,    3,   44,   97, 5552,    3,  131,    1],\n",
       "       [  21,   10,   51,   30,   49,   12,    3, 5684,  195,  210],\n",
       "       [  17,   63,   48,   86,    3,  126,   25,   10, 5429,   44],\n",
       "       [  25,   18,   30,   64,  118,   36,    1,  179,  371, 5107]],\n",
       "      dtype=int64)"
      ]
     },
     "execution_count": 63,
     "metadata": {},
     "output_type": "execute_result"
    }
   ],
   "source": [
    "y_train_pred = cross_val_predict(sgd_clf, X_train_scaled, y_train, cv=3)\n",
    "conf_mx = confusion_matrix(y_train, y_train_pred)\n",
    "conf_mx"
   ]
  },
  {
   "cell_type": "code",
   "execution_count": 64,
   "id": "518edebb",
   "metadata": {},
   "outputs": [
    {
     "data": {
      "image/png": "[encoded data removed]",
      "text/plain": [
       "<Figure size 288x288 with 1 Axes>"
      ]
     },
     "metadata": {
      "needs_background": "light"
     },
     "output_type": "display_data"
    }
   ],
   "source": [
    "plt.matshow(conf_mx, cmap=plt.cm.gray)\n",
    "plt.show()"
   ]
  },
  {
   "cell_type": "code",
   "execution_count": 65,
   "id": "b23939f4",
   "metadata": {},
   "outputs": [],
   "source": [
    "# 오차행렬의 각 값을 대응되는 클래스의 이미지 개수로 나누어 에러 \"비율\"을 비교\n",
    "row_sums = conf_mx.sum(axis=1, keepdims=True) # keepdims는 True일때 dimension 유지\n",
    "norm_conf_mx = conf_mx / row_sums"
   ]
  },
  {
   "cell_type": "code",
   "execution_count": 66,
   "id": "d80619e6",
   "metadata": {},
   "outputs": [
    {
     "data": {
      "image/png": "[encoded data removed]",
      "text/plain": [
       "<Figure size 288x288 with 1 Axes>"
      ]
     },
     "metadata": {
      "needs_background": "light"
     },
     "output_type": "display_data"
    }
   ],
   "source": [
    "np.fill_diagonal(norm_conf_mx, 0) # 주대각선을 0으로 채우기\n",
    "plt.matshow(norm_conf_mx, cmap=plt.cm.gray)\n",
    "plt.show()"
   ]
  },
  {
   "cell_type": "markdown",
   "id": "6d0389e8",
   "metadata": {},
   "source": [
    "행은 실제 클래스, 열은 예측한 클래스를 나타내는데, 클래스8 열이 밝게 나오므로 많은 이미지가 8로 잘못 분류됨을 알 수 있음.  \n",
    "* 해결책  \n",
    "    * 8처럼 보이는 숫자의 훈련 데이터를 많이 모아서 실제 8과 구분하도록 분류기를 학습시킬 수 있다.\n",
    "    * 분류기에 도움이 될 만한 특성을 찾는다.\n",
    "    * 어떤 패턴이 드러나도록 이미지 전처리를 거친다."
   ]
  },
  {
   "cell_type": "markdown",
   "id": "baf13001",
   "metadata": {},
   "source": [
    "* 3과 5의 샘플 살펴보기"
   ]
  },
  {
   "cell_type": "code",
   "execution_count": 67,
   "id": "dcc38cab",
   "metadata": {},
   "outputs": [],
   "source": [
    "def plot_digit(data):\n",
    "    image = data.reshape(28, 28)\n",
    "    plt.imshow(image, cmap = mpl.cm.binary,\n",
    "               interpolation=\"nearest\")\n",
    "    plt.axis(\"off\")\n",
    "    \n",
    "# 숫자 그림을 위한 추가 함수\n",
    "def plot_digits(instances, images_per_row=10, **options):\n",
    "    size = 28\n",
    "    images_per_row = min(len(instances), images_per_row)\n",
    "    # n_rows = ceil(len(instances) / images_per_row) 와 동일합니다:\n",
    "    n_rows = (len(instances) - 1) // images_per_row + 1\n",
    "\n",
    "    # 필요하면 그리드 끝을 채우기 위해 빈 이미지를 추가합니다:\n",
    "    n_empty = n_rows * images_per_row - len(instances)\n",
    "    padded_instances = np.concatenate([instances, np.zeros((n_empty, size * size))], axis=0)\n",
    "\n",
    "    # 배열의 크기를 바꾸어 28×28 이미지를 담은 그리드로 구성합니다:\n",
    "    image_grid = padded_instances.reshape((n_rows, images_per_row, size, size))\n",
    "\n",
    "    # 축 0(이미지 그리드의 수직축)과 2(이미지의 수직축)를 합치고 축 1과 3(두 수평축)을 합칩니다. \n",
    "    # 먼저 transpose()를 사용해 결합하려는 축을 옆으로 이동한 다음 합칩니다:\n",
    "    big_image = image_grid.transpose(0, 2, 1, 3).reshape(n_rows * size,\n",
    "                                                         images_per_row * size)\n",
    "    # 하나의 큰 이미지를 얻었으므로 출력하면 됩니다:\n",
    "    plt.imshow(big_image, cmap = mpl.cm.binary, **options)\n",
    "    plt.axis(\"off\")"
   ]
  },
  {
   "cell_type": "code",
   "execution_count": 68,
   "id": "a3f577e2",
   "metadata": {},
   "outputs": [
    {
     "name": "stdout",
     "output_type": "stream",
     "text": [
      "그림 저장: error_analysis_digits_plot\n"
     ]
    },
    {
     "data": {
      "image/png": "[encoded data removed]",
      "text/plain": [
       "<Figure size 576x576 with 4 Axes>"
      ]
     },
     "metadata": {
      "needs_background": "light"
     },
     "output_type": "display_data"
    }
   ],
   "source": [
    "cl_a, cl_b = 3, 5\n",
    "X_aa = X_train[(y_train == cl_a) & (y_train_pred == cl_a)]\n",
    "X_ab = X_train[(y_train == cl_a) & (y_train_pred == cl_b)]\n",
    "X_ba = X_train[(y_train == cl_b) & (y_train_pred == cl_a)]\n",
    "X_bb = X_train[(y_train == cl_b) & (y_train_pred == cl_b)]\n",
    "\n",
    "plt.figure(figsize=(8,8))\n",
    "plt.subplot(221); plot_digits(X_aa[:25], images_per_row=5) # 실제 3을 3으로 예측\n",
    "plt.subplot(222); plot_digits(X_ab[:25], images_per_row=5) # 실제 3을 5로 예측\n",
    "plt.subplot(223); plot_digits(X_ba[:25], images_per_row=5) # 실제 5를 3으로 예측\n",
    "plt.subplot(224); plot_digits(X_bb[:25], images_per_row=5) # 실제 5를 5로 예측\n",
    "save_fig(\"error_analysis_digits_plot\")\n",
    "plt.show()"
   ]
  },
  {
   "cell_type": "markdown",
   "id": "f3504855",
   "metadata": {},
   "source": [
    "* 2, 3번째 블록에서 분류기가 실수한 이유  \n",
    "선형 모델인 SGDClassifier를 사용했기 때문이다.  \n",
    "선형 분류기는 클래스마다 픽셀에 가중치를 할당하고 새로운 이미지에 대해 단순히 픽셀 강도의 가중치 합을 클래스의 점수로 계산한다.  \n",
    "따라서 3과 5는 몇 개의 픽셀만 다르기 때문에 쉽게 혼동된다."
   ]
  },
  {
   "cell_type": "markdown",
   "id": "5310d122",
   "metadata": {},
   "source": [
    "* 3과 5는 위 선과 아래 호를 이어주는 작은 선의 위치가 주요 차이인데, 이미지의 위치나 회전방향에 매우 민감하다.  \n",
    "* 에러를 줄이는 한 방법은 이미지를 중앙에 위치시키고 회전되어 있지 않도록 전처리 시키는 것이다."
   ]
  },
  {
   "cell_type": "markdown",
   "id": "8b94b3d2",
   "metadata": {},
   "source": [
    "## 3.6 다중 레이블 분류\n",
    "분류기가 샘플마다 여러 개의 클래스를 출력해야 할 때도 있다.  \n",
    "예로 엘리스와 찰리가 있는 사진을 본다면 엘리스와 찰리 클래스를 출력해야한다.  \n",
    "이처럼 여러 개의 이진 꼬리표를 출력하는 분류 시스템을 다중 레이블 분류 시스템이라고 한다."
   ]
  },
  {
   "cell_type": "code",
   "execution_count": 69,
   "id": "b801effc",
   "metadata": {},
   "outputs": [
    {
     "data": {
      "text/plain": [
       "KNeighborsClassifier()"
      ]
     },
     "execution_count": 69,
     "metadata": {},
     "output_type": "execute_result"
    }
   ],
   "source": [
    "from sklearn.neighbors import KNeighborsClassifier\n",
    "\n",
    "y_train_large = (y_train >= 7)\n",
    "y_train_odd = (y_train % 2 == 1)\n",
    "y_multilabel = np.c_[y_train_large, y_train_odd] # 배열을 column으로 하여 옆에 붙이기\n",
    "\n",
    "knn_clf = KNeighborsClassifier()\n",
    "knn_clf.fit(X_train, y_multilabel)"
   ]
  },
  {
   "cell_type": "code",
   "execution_count": 70,
   "id": "92527b28",
   "metadata": {},
   "outputs": [
    {
     "data": {
      "text/plain": [
       "array([[False,  True]])"
      ]
     },
     "execution_count": 70,
     "metadata": {},
     "output_type": "execute_result"
    }
   ],
   "source": [
    "knn_clf.predict([some_digit])"
   ]
  },
  {
   "cell_type": "code",
   "execution_count": 72,
   "id": "2821e134",
   "metadata": {},
   "outputs": [
    {
     "data": {
      "text/plain": [
       "0.976410265560605"
      ]
     },
     "execution_count": 72,
     "metadata": {},
     "output_type": "execute_result"
    }
   ],
   "source": [
    "# 모든 레이블의 가중치가 같다고 가정한 경우 분류기 평가\n",
    "y_train_knn_pred = cross_val_predict(knn_clf, X_train, y_multilabel, cv=3)\n",
    "f1_score(y_multilabel, y_train_knn_pred, average=\"macro\")"
   ]
  },
  {
   "cell_type": "code",
   "execution_count": 73,
   "id": "da7b69a3",
   "metadata": {},
   "outputs": [
    {
     "data": {
      "text/plain": [
       "0.9778357403921755"
      ]
     },
     "execution_count": 73,
     "metadata": {},
     "output_type": "execute_result"
    }
   ],
   "source": [
    "# 앨리스 사진이 더 많아 가중치가 필요할 때\n",
    "f1_score(y_multilabel, y_train_knn_pred, average=\"weighted\")"
   ]
  },
  {
   "cell_type": "markdown",
   "id": "fae315a1",
   "metadata": {},
   "source": [
    "## 3.7 다중 출력 분류\n",
    "\n",
    "다중 출력 분류는 다중 레이블 분류에서 한 레이블이 다중 클래스가 될 수 있도록 일반화한 것이다.  \n",
    "다중 레이블 분류는 샘플이 여러 클래스에 할당되는데, 이 클래스들은 이진 분류 클래스들인 반면,  \n",
    "다중 출력 분류는 샘플이 여러 클래스에 할당되면서 각 클래스(레이블)들은 이진이 아닌 여러 값을 가진다."
   ]
  },
  {
   "cell_type": "markdown",
   "id": "a35ecce3",
   "metadata": {},
   "source": [
    "* 이미지에서 잡음을 제거하는 시스템  \n",
    "잡음이 많은 이미지를 입력받고 픽셀의 강도를 담은 배열로 이미지를 출력하면 픽셀당 한 레이블로 하여 샘플이 여러 레이블에 할당되고, 레이블은 0 ~ 255까지의 여러 값을 가지는 다중 출력 분류 시스템이다."
   ]
  },
  {
   "cell_type": "code",
   "execution_count": 74,
   "id": "dcc84204",
   "metadata": {},
   "outputs": [],
   "source": [
    "noise = np.random.randint(0, 100, (len(X_train), 784))\n",
    "X_train_mod = X_train + noise\n",
    "noise = np.random.randint(0, 100, (len(X_test), 784))\n",
    "X_test_mod = X_test + noise\n",
    "y_train_mod = X_train\n",
    "y_test_mod = X_test"
   ]
  },
  {
   "cell_type": "code",
   "execution_count": 77,
   "id": "b7c51b92",
   "metadata": {},
   "outputs": [
    {
     "name": "stdout",
     "output_type": "stream",
     "text": [
      "그림 저장: noisy_digit_example_plot\n"
     ]
    },
    {
     "data": {
      "image/png": "[encoded data removed]",
      "text/plain": [
       "<Figure size 432x288 with 2 Axes>"
      ]
     },
     "metadata": {
      "needs_background": "light"
     },
     "output_type": "display_data"
    }
   ],
   "source": [
    "some_index = 0\n",
    "plt.subplot(121); plot_digit(X_test_mod[some_index])\n",
    "plt.subplot(122); plot_digit(y_test_mod[some_index])\n",
    "save_fig(\"noisy_digit_example_plot\")\n",
    "plt.show()"
   ]
  },
  {
   "cell_type": "code",
   "execution_count": 78,
   "id": "f9bc3f16",
   "metadata": {},
   "outputs": [
    {
     "data": {
      "image/png": "[encoded data removed]",
      "text/plain": [
       "<Figure size 432x288 with 1 Axes>"
      ]
     },
     "metadata": {
      "needs_background": "light"
     },
     "output_type": "display_data"
    }
   ],
   "source": [
    "knn_clf.fit(X_train_mod, y_train_mod)\n",
    "clean_digit = knn_clf.predict([X_test_mod[some_index]])\n",
    "plot_digit(clean_digit)"
   ]
  },
  {
   "cell_type": "code",
   "execution_count": null,
   "id": "1639a252",
   "metadata": {},
   "outputs": [],
   "source": []
  }
 ],
 "metadata": {
  "kernelspec": {
   "display_name": "Python 3 (ipykernel)",
   "language": "python",
   "name": "python3"
  },
  "language_info": {
   "codemirror_mode": {
    "name": "ipython",
    "version": 3
   },
   "file_extension": ".py",
   "mimetype": "text/x-python",
   "name": "python",
   "nbconvert_exporter": "python",
   "pygments_lexer": "ipython3",
   "version": "3.9.7"
  }
 },
 "nbformat": 4,
 "nbformat_minor": 5
}
